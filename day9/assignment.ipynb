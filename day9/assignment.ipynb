{
 "cells": [
  {
   "cell_type": "code",
   "execution_count": 1,
   "metadata": {},
   "outputs": [],
   "source": [
    "import pandas as pd\n",
    "import numpy as np\n",
    "import matplotlib.pyplot as plt\n"
   ]
  },
  {
   "cell_type": "code",
   "execution_count": 3,
   "metadata": {},
   "outputs": [],
   "source": [
    "df = pd.read_csv(\"general_data.xlsx.csv\")\n"
   ]
  },
  {
   "cell_type": "code",
   "execution_count": 7,
   "metadata": {},
   "outputs": [
    {
     "data": {
      "text/html": [
       "<div>\n",
       "<style scoped>\n",
       "    .dataframe tbody tr th:only-of-type {\n",
       "        vertical-align: middle;\n",
       "    }\n",
       "\n",
       "    .dataframe tbody tr th {\n",
       "        vertical-align: top;\n",
       "    }\n",
       "\n",
       "    .dataframe thead th {\n",
       "        text-align: right;\n",
       "    }\n",
       "</style>\n",
       "<table border=\"1\" class=\"dataframe\">\n",
       "  <thead>\n",
       "    <tr style=\"text-align: right;\">\n",
       "      <th></th>\n",
       "      <th>Age</th>\n",
       "      <th>Attrition</th>\n",
       "      <th>BusinessTravel</th>\n",
       "      <th>Department</th>\n",
       "      <th>DistanceFromHome</th>\n",
       "      <th>Education</th>\n",
       "      <th>EducationField</th>\n",
       "      <th>EmployeeCount</th>\n",
       "      <th>EmployeeID</th>\n",
       "      <th>Gender</th>\n",
       "      <th>...</th>\n",
       "      <th>NumCompaniesWorked</th>\n",
       "      <th>Over18</th>\n",
       "      <th>PercentSalaryHike</th>\n",
       "      <th>StandardHours</th>\n",
       "      <th>StockOptionLevel</th>\n",
       "      <th>TotalWorkingYears</th>\n",
       "      <th>TrainingTimesLastYear</th>\n",
       "      <th>YearsAtCompany</th>\n",
       "      <th>YearsSinceLastPromotion</th>\n",
       "      <th>YearsWithCurrManager</th>\n",
       "    </tr>\n",
       "  </thead>\n",
       "  <tbody>\n",
       "    <tr>\n",
       "      <th>1</th>\n",
       "      <td>31</td>\n",
       "      <td>Yes</td>\n",
       "      <td>Travel_Frequently</td>\n",
       "      <td>Research &amp; Development</td>\n",
       "      <td>10</td>\n",
       "      <td>1</td>\n",
       "      <td>Life Sciences</td>\n",
       "      <td>1</td>\n",
       "      <td>2</td>\n",
       "      <td>Female</td>\n",
       "      <td>...</td>\n",
       "      <td>0.0</td>\n",
       "      <td>Y</td>\n",
       "      <td>23</td>\n",
       "      <td>8</td>\n",
       "      <td>1</td>\n",
       "      <td>6.0</td>\n",
       "      <td>3</td>\n",
       "      <td>5</td>\n",
       "      <td>1</td>\n",
       "      <td>4</td>\n",
       "    </tr>\n",
       "    <tr>\n",
       "      <th>6</th>\n",
       "      <td>28</td>\n",
       "      <td>Yes</td>\n",
       "      <td>Travel_Rarely</td>\n",
       "      <td>Research &amp; Development</td>\n",
       "      <td>11</td>\n",
       "      <td>2</td>\n",
       "      <td>Medical</td>\n",
       "      <td>1</td>\n",
       "      <td>7</td>\n",
       "      <td>Male</td>\n",
       "      <td>...</td>\n",
       "      <td>2.0</td>\n",
       "      <td>Y</td>\n",
       "      <td>20</td>\n",
       "      <td>8</td>\n",
       "      <td>1</td>\n",
       "      <td>5.0</td>\n",
       "      <td>2</td>\n",
       "      <td>0</td>\n",
       "      <td>0</td>\n",
       "      <td>0</td>\n",
       "    </tr>\n",
       "    <tr>\n",
       "      <th>13</th>\n",
       "      <td>47</td>\n",
       "      <td>Yes</td>\n",
       "      <td>Non-Travel</td>\n",
       "      <td>Research &amp; Development</td>\n",
       "      <td>1</td>\n",
       "      <td>1</td>\n",
       "      <td>Medical</td>\n",
       "      <td>1</td>\n",
       "      <td>14</td>\n",
       "      <td>Male</td>\n",
       "      <td>...</td>\n",
       "      <td>1.0</td>\n",
       "      <td>Y</td>\n",
       "      <td>11</td>\n",
       "      <td>8</td>\n",
       "      <td>2</td>\n",
       "      <td>10.0</td>\n",
       "      <td>4</td>\n",
       "      <td>10</td>\n",
       "      <td>9</td>\n",
       "      <td>9</td>\n",
       "    </tr>\n",
       "    <tr>\n",
       "      <th>28</th>\n",
       "      <td>44</td>\n",
       "      <td>Yes</td>\n",
       "      <td>Travel_Frequently</td>\n",
       "      <td>Research &amp; Development</td>\n",
       "      <td>1</td>\n",
       "      <td>2</td>\n",
       "      <td>Medical</td>\n",
       "      <td>1</td>\n",
       "      <td>29</td>\n",
       "      <td>Male</td>\n",
       "      <td>...</td>\n",
       "      <td>3.0</td>\n",
       "      <td>Y</td>\n",
       "      <td>14</td>\n",
       "      <td>8</td>\n",
       "      <td>1</td>\n",
       "      <td>19.0</td>\n",
       "      <td>2</td>\n",
       "      <td>1</td>\n",
       "      <td>0</td>\n",
       "      <td>0</td>\n",
       "    </tr>\n",
       "    <tr>\n",
       "      <th>30</th>\n",
       "      <td>26</td>\n",
       "      <td>Yes</td>\n",
       "      <td>Travel_Rarely</td>\n",
       "      <td>Research &amp; Development</td>\n",
       "      <td>4</td>\n",
       "      <td>3</td>\n",
       "      <td>Medical</td>\n",
       "      <td>1</td>\n",
       "      <td>31</td>\n",
       "      <td>Male</td>\n",
       "      <td>...</td>\n",
       "      <td>2.0</td>\n",
       "      <td>Y</td>\n",
       "      <td>11</td>\n",
       "      <td>8</td>\n",
       "      <td>0</td>\n",
       "      <td>5.0</td>\n",
       "      <td>5</td>\n",
       "      <td>3</td>\n",
       "      <td>0</td>\n",
       "      <td>2</td>\n",
       "    </tr>\n",
       "  </tbody>\n",
       "</table>\n",
       "<p>5 rows × 24 columns</p>\n",
       "</div>"
      ],
      "text/plain": [
       "    Age Attrition     BusinessTravel              Department  \\\n",
       "1    31       Yes  Travel_Frequently  Research & Development   \n",
       "6    28       Yes      Travel_Rarely  Research & Development   \n",
       "13   47       Yes         Non-Travel  Research & Development   \n",
       "28   44       Yes  Travel_Frequently  Research & Development   \n",
       "30   26       Yes      Travel_Rarely  Research & Development   \n",
       "\n",
       "    DistanceFromHome  Education EducationField  EmployeeCount  EmployeeID  \\\n",
       "1                 10          1  Life Sciences              1           2   \n",
       "6                 11          2        Medical              1           7   \n",
       "13                 1          1        Medical              1          14   \n",
       "28                 1          2        Medical              1          29   \n",
       "30                 4          3        Medical              1          31   \n",
       "\n",
       "    Gender  ...  NumCompaniesWorked Over18 PercentSalaryHike  StandardHours  \\\n",
       "1   Female  ...                 0.0      Y                23              8   \n",
       "6     Male  ...                 2.0      Y                20              8   \n",
       "13    Male  ...                 1.0      Y                11              8   \n",
       "28    Male  ...                 3.0      Y                14              8   \n",
       "30    Male  ...                 2.0      Y                11              8   \n",
       "\n",
       "    StockOptionLevel TotalWorkingYears  TrainingTimesLastYear  YearsAtCompany  \\\n",
       "1                  1               6.0                      3               5   \n",
       "6                  1               5.0                      2               0   \n",
       "13                 2              10.0                      4              10   \n",
       "28                 1              19.0                      2               1   \n",
       "30                 0               5.0                      5               3   \n",
       "\n",
       "    YearsSinceLastPromotion  YearsWithCurrManager  \n",
       "1                         1                     4  \n",
       "6                         0                     0  \n",
       "13                        9                     9  \n",
       "28                        0                     0  \n",
       "30                        0                     2  \n",
       "\n",
       "[5 rows x 24 columns]"
      ]
     },
     "execution_count": 7,
     "metadata": {},
     "output_type": "execute_result"
    }
   ],
   "source": [
    "df_attrition_yes = df[df[\"Attrition\"]==\"Yes\"] \n",
    "df_attrition_yes.head()\n"
   ]
  },
  {
   "cell_type": "code",
   "execution_count": 6,
   "metadata": {},
   "outputs": [
    {
     "data": {
      "text/plain": [
       "Male      441\n",
       "Female    270\n",
       "Name: Gender, dtype: int64"
      ]
     },
     "execution_count": 6,
     "metadata": {},
     "output_type": "execute_result"
    }
   ],
   "source": [
    "df_attrition_yes[\"Gender\"].value_counts()"
   ]
  },
  {
   "cell_type": "code",
   "execution_count": 15,
   "metadata": {},
   "outputs": [
    {
     "name": "stdout",
     "output_type": "stream",
     "text": [
      "711\n"
     ]
    }
   ],
   "source": [
    "total = df[\"Attrition\"].value_counts()[\"Yes\"]\n",
    "print(total)"
   ]
  },
  {
   "cell_type": "code",
   "execution_count": 25,
   "metadata": {},
   "outputs": [
    {
     "name": "stdout",
     "output_type": "stream",
     "text": [
      "Number of Males who are leaving the company are  62.0253164556962 %\n",
      "Number of Females who are leaving the company are  37.9746835443038 %\n"
     ]
    }
   ],
   "source": [
    "print(\"Number of Males who are leaving the company are \",(441/total)*100,\"%\")\n",
    "print(\"Number of Females who are leaving the company are \",(270/total)*100,\"%\")"
   ]
  },
  {
   "cell_type": "code",
   "execution_count": 32,
   "metadata": {},
   "outputs": [],
   "source": [
    "dfincome = df_attrition_yes[\"MonthlyIncome\"]"
   ]
  },
  {
   "cell_type": "code",
   "execution_count": 34,
   "metadata": {},
   "outputs": [
    {
     "data": {
      "text/plain": [
       "61682.61603375527"
      ]
     },
     "execution_count": 34,
     "metadata": {},
     "output_type": "execute_result"
    }
   ],
   "source": [
    "dfincome.mean()\n"
   ]
  },
  {
   "cell_type": "code",
   "execution_count": 35,
   "metadata": {},
   "outputs": [
    {
     "data": {
      "text/plain": [
       "2     114\n",
       "1      96\n",
       "10     60\n",
       "7      48\n",
       "9      36\n",
       "4      33\n",
       "8      33\n",
       "15     33\n",
       "3      30\n",
       "5      30\n",
       "6      21\n",
       "19     18\n",
       "18     15\n",
       "16     15\n",
       "12     15\n",
       "29     12\n",
       "17     12\n",
       "28     12\n",
       "23     12\n",
       "24      9\n",
       "27      9\n",
       "11      9\n",
       "22      9\n",
       "20      9\n",
       "25      6\n",
       "21      6\n",
       "26      3\n",
       "13      3\n",
       "14      3\n",
       "Name: DistanceFromHome, dtype: int64"
      ]
     },
     "execution_count": 35,
     "metadata": {},
     "output_type": "execute_result"
    }
   ],
   "source": [
    "dfhome = df_attrition_yes[\"DistanceFromHome\"]\n",
    "dfhome.value_counts()"
   ]
  },
  {
   "cell_type": "code",
   "execution_count": 40,
   "metadata": {},
   "outputs": [],
   "source": [
    "dfdepart = df_attrition_yes[\"Department\"]"
   ]
  },
  {
   "cell_type": "code",
   "execution_count": 39,
   "metadata": {},
   "outputs": [
    {
     "data": {
      "text/plain": [
       "Research & Development    453\n",
       "Sales                     201\n",
       "Human Resources            57\n",
       "Name: Department, dtype: int64"
      ]
     },
     "execution_count": 39,
     "metadata": {},
     "output_type": "execute_result"
    }
   ],
   "source": [
    "dfdepart.value_counts()"
   ]
  },
  {
   "cell_type": "code",
   "execution_count": 44,
   "metadata": {},
   "outputs": [
    {
     "data": {
      "text/plain": [
       "25590     6\n",
       "55620     6\n",
       "27430     6\n",
       "28860     6\n",
       "27410     6\n",
       "         ..\n",
       "76440     3\n",
       "84630     3\n",
       "107480    3\n",
       "22740     3\n",
       "30720     3\n",
       "Name: MonthlyIncome, Length: 232, dtype: int64"
      ]
     },
     "execution_count": 44,
     "metadata": {},
     "output_type": "execute_result"
    }
   ],
   "source": [
    "dfincome.value_counts()"
   ]
  },
  {
   "cell_type": "code",
   "execution_count": 47,
   "metadata": {},
   "outputs": [
    {
     "data": {
      "text/plain": [
       "1     177\n",
       "2      81\n",
       "5      63\n",
       "3      60\n",
       "4      57\n",
       "10     54\n",
       "0      48\n",
       "7      33\n",
       "6      27\n",
       "8      27\n",
       "9      24\n",
       "13      6\n",
       "11      6\n",
       "14      6\n",
       "33      3\n",
       "15      3\n",
       "16      3\n",
       "17      3\n",
       "18      3\n",
       "19      3\n",
       "20      3\n",
       "21      3\n",
       "22      3\n",
       "23      3\n",
       "24      3\n",
       "31      3\n",
       "32      3\n",
       "40      3\n",
       "Name: YearsAtCompany, dtype: int64"
      ]
     },
     "execution_count": 47,
     "metadata": {},
     "output_type": "execute_result"
    }
   ],
   "source": [
    "\n",
    " df_attrition_yes.YearsAtCompany.value_counts()"
   ]
  },
  {
   "cell_type": "code",
   "execution_count": 48,
   "metadata": {},
   "outputs": [
    {
     "data": {
      "text/plain": [
       "29    54\n",
       "31    54\n",
       "28    42\n",
       "26    36\n",
       "33    36\n",
       "32    33\n",
       "35    30\n",
       "30    27\n",
       "34    27\n",
       "24    21\n",
       "25    18\n",
       "36    18\n",
       "44    18\n",
       "21    18\n",
       "20    18\n",
       "41    18\n",
       "19    18\n",
       "39    18\n",
       "37    18\n",
       "22    15\n",
       "58    15\n",
       "40    15\n",
       "50    15\n",
       "18    12\n",
       "23    12\n",
       "46    12\n",
       "27     9\n",
       "55     9\n",
       "52     9\n",
       "56     9\n",
       "47     9\n",
       "38     6\n",
       "49     6\n",
       "45     6\n",
       "51     6\n",
       "43     6\n",
       "53     6\n",
       "42     6\n",
       "48     6\n",
       "Name: Age, dtype: int64"
      ]
     },
     "execution_count": 48,
     "metadata": {},
     "output_type": "execute_result"
    }
   ],
   "source": [
    "\n",
    " df_attrition_yes.Age.value_counts()"
   ]
  },
  {
   "cell_type": "code",
   "execution_count": 49,
   "metadata": {},
   "outputs": [
    {
     "data": {
      "text/plain": [
       "33.607594936708864"
      ]
     },
     "execution_count": 49,
     "metadata": {},
     "output_type": "execute_result"
    }
   ],
   "source": [
    "\n",
    " df_attrition_yes.Age.mean()"
   ]
  },
  {
   "cell_type": "code",
   "execution_count": 50,
   "metadata": {},
   "outputs": [
    {
     "data": {
      "text/plain": [
       "Sales Executive              165\n",
       "Research Scientist           159\n",
       "Laboratory Technician        126\n",
       "Research Director             57\n",
       "Healthcare Representative     57\n",
       "Manufacturing Director        48\n",
       "Manager                       42\n",
       "Sales Representative          36\n",
       "Human Resources               21\n",
       "Name: JobRole, dtype: int64"
      ]
     },
     "execution_count": 50,
     "metadata": {},
     "output_type": "execute_result"
    }
   ],
   "source": [
    "df_attrition_yes.JobRole.value_counts()"
   ]
  },
  {
   "cell_type": "code",
   "execution_count": 51,
   "metadata": {},
   "outputs": [
    {
     "data": {
      "text/plain": [
       "Single      360\n",
       "Married     252\n",
       "Divorced     99\n",
       "Name: MaritalStatus, dtype: int64"
      ]
     },
     "execution_count": 51,
     "metadata": {},
     "output_type": "execute_result"
    }
   ],
   "source": [
    "df_attrition_yes.MaritalStatus.value_counts()"
   ]
  },
  {
   "cell_type": "code",
   "execution_count": 52,
   "metadata": {},
   "outputs": [
    {
     "data": {
      "text/plain": [
       "Life Sciences       303\n",
       "Medical             225\n",
       "Marketing            75\n",
       "Technical Degree     45\n",
       "Human Resources      33\n",
       "Other                30\n",
       "Name: EducationField, dtype: int64"
      ]
     },
     "execution_count": 52,
     "metadata": {},
     "output_type": "execute_result"
    }
   ],
   "source": [
    "df_attrition_yes.EducationField.value_counts()"
   ]
  },
  {
   "cell_type": "code",
   "execution_count": null,
   "metadata": {},
   "outputs": [],
   "source": []
  }
 ],
 "metadata": {
  "kernelspec": {
   "display_name": "Python 3",
   "language": "python",
   "name": "python3"
  },
  "language_info": {
   "codemirror_mode": {
    "name": "ipython",
    "version": 3
   },
   "file_extension": ".py",
   "mimetype": "text/x-python",
   "name": "python",
   "nbconvert_exporter": "python",
   "pygments_lexer": "ipython3",
   "version": "3.7.6"
  }
 },
 "nbformat": 4,
 "nbformat_minor": 4
}
