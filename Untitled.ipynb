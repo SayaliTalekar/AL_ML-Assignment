{
 "cells": [
  {
   "cell_type": "markdown",
   "metadata": {},
   "source": [
    "1) Research on range() functions and its parameters. Create a markdown cell and write in your own words (no copy-paste from google please) what you understand about it. Implement a small program of your choice on the same."
   ]
  },
  {
   "cell_type": "markdown",
   "metadata": {},
   "source": [
    "writing a program to find even numbers from 1 to 100"
   ]
  },
  {
   "cell_type": "code",
   "execution_count": 15,
   "metadata": {},
   "outputs": [
    {
     "name": "stdout",
     "output_type": "stream",
     "text": [
      "2\n",
      "4\n",
      "6\n",
      "8\n",
      "10\n",
      "12\n",
      "14\n",
      "16\n",
      "18\n",
      "20\n",
      "22\n",
      "24\n",
      "26\n",
      "28\n",
      "30\n",
      "32\n",
      "34\n",
      "36\n",
      "38\n",
      "40\n",
      "42\n",
      "44\n",
      "46\n",
      "48\n",
      "50\n",
      "52\n",
      "54\n",
      "56\n",
      "58\n",
      "60\n",
      "62\n",
      "64\n",
      "66\n",
      "68\n",
      "70\n",
      "72\n",
      "74\n",
      "76\n",
      "78\n",
      "80\n",
      "82\n",
      "84\n",
      "86\n",
      "88\n",
      "90\n",
      "92\n",
      "94\n",
      "96\n",
      "98\n",
      "100\n"
     ]
    }
   ],
   "source": [
    "even = range(1,101)\n",
    "for num in even:\n",
    "    if num % 2 == 0:\n",
    "        print(num)"
   ]
  },
  {
   "cell_type": "markdown",
   "metadata": {},
   "source": [
    "2) Research on whether addition, subtraction, multiplication, division, floor division and module operations be performed on complex numbers. Based on your study, implement a Python program to demonstrate these operations"
   ]
  },
  {
   "cell_type": "code",
   "execution_count": 17,
   "metadata": {},
   "outputs": [
    {
     "name": "stdout",
     "output_type": "stream",
     "text": [
      "Addition of (6+10j) and (11+21j) complex numbers :  (9+3j)\n",
      "Subtraction of (6+10j) and (11+21j) complex numbers :  (3+17j)\n",
      "Multiplication of (6+10j) and (11+21j) complex numbers :  (88-12j)\n",
      "Division of (6+10j) and (11+21j) complex numbers :  (-0.8965517241379312+1.2413793103448276j)\n"
     ]
    }
   ],
   "source": [
    "num1 = 6 + 10j\n",
    "num2 = 11 + 21j\n",
    "\n",
    "print(f\"Addition of {num1} and {num2} complex numbers : \",num1+(3-7j))\n",
    "print(f\"Subtraction of {num1} and {num2} complex numbers : \",num1-(3-7j))\n",
    "print(f\"Multiplication of {num1} and {num2} complex numbers : \",num1*(3-7j))\n",
    "print(f\"Division of {num1} and {num2} complex numbers : \",num1/(3-7j))"
   ]
  },
  {
   "cell_type": "markdown",
   "metadata": {},
   "source": [
    "3: Consider two numbers. Perform their subtraction and if the result of subtraction is greater than 25, print their multiplication result else print their division result."
   ]
  },
  {
   "cell_type": "code",
   "execution_count": 22,
   "metadata": {},
   "outputs": [
    {
     "name": "stdout",
     "output_type": "stream",
     "text": [
      "Division of 1000 and 976 is 1.0245901639344261\n"
     ]
    }
   ],
   "source": [
    "num1 = 1000\n",
    "num2 = 976\n",
    "\n",
    "if num1 - num2 > 25:\n",
    "    print(f\"Multiplication of {num1} and {num2} is {num1 * num2}\")\n",
    "else:\n",
    "    print(f\"Division of {num1} and {num2} is {num1 / num2}\")"
   ]
  },
  {
   "cell_type": "markdown",
   "metadata": {},
   "source": [
    "Consider a list of 10 elements of integer values. If the number in the list is divisible by 2, print the result as \"square of that number minus 2\"."
   ]
  },
  {
   "cell_type": "code",
   "execution_count": 24,
   "metadata": {},
   "outputs": [
    {
     "name": "stdout",
     "output_type": "stream",
     "text": [
      "Square of 10 minus 2 is: 98\n",
      "Square of 20 minus 2 is: 398\n",
      "Square of 30 minus 2 is: 898\n",
      "Square of 40 minus 2 is: 1598\n",
      "Square of 50 minus 2 is: 2498\n",
      "Square of 60 minus 2 is: 3598\n"
     ]
    }
   ],
   "source": [
    "lst = [10, 15, 20, 25, 30, 35, 40, 45, 50, 55, 60]\n",
    "for i in lst:\n",
    "    if i % 2 == 0:\n",
    "        print(F\"Square of {i} minus 2 is: {i**2-2}\")"
   ]
  },
  {
   "cell_type": "markdown",
   "metadata": {},
   "source": [
    "Consider a list of 10 elements. Print all the elements in the list which are greater than 7 when that number is divided 2"
   ]
  },
  {
   "cell_type": "code",
   "execution_count": 27,
   "metadata": {},
   "outputs": [
    {
     "name": "stdout",
     "output_type": "stream",
     "text": [
      "Elements in the list and greater than 7 when that no. is divided by 2: \n",
      "20\n",
      "36\n",
      "40\n",
      "43\n",
      "47\n",
      "50\n",
      "55\n"
     ]
    }
   ],
   "source": [
    "lst = [2, 5,8,11,20, 36, 40, 43,47, 50, 55]\n",
    "print(\"Elements in the list and greater than 7 when that no. is divided by 2: \")\n",
    "for i in lst:\n",
    "    if i/2 > 7:\n",
    "        print(i)"
   ]
  },
  {
   "cell_type": "code",
   "execution_count": null,
   "metadata": {},
   "outputs": [],
   "source": []
  }
 ],
 "metadata": {
  "kernelspec": {
   "display_name": "Python 3",
   "language": "python",
   "name": "python3"
  },
  "language_info": {
   "codemirror_mode": {
    "name": "ipython",
    "version": 3
   },
   "file_extension": ".py",
   "mimetype": "text/x-python",
   "name": "python",
   "nbconvert_exporter": "python",
   "pygments_lexer": "ipython3",
   "version": "3.7.6"
  }
 },
 "nbformat": 4,
 "nbformat_minor": 4
}
